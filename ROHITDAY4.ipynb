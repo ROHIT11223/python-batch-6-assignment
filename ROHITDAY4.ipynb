{
 "cells": [
  {
   "cell_type": "raw",
   "metadata": {},
   "source": [
    "# NOTE: YOU CAN REFER DA1, DAY2, DAY3, DAY4 ASSIGNMENTS IN SAME FILE SCROLL DOWN PLZ\n",
    "\n",
    "ALSO SEPARATE FILES ARE AVAILBLE in REPOSITORY FOR DAY1, DAY2, DAY3 ASSIGNMENTS and also submitted on time"
   ]
  },
  {
   "cell_type": "code",
   "execution_count": null,
   "metadata": {},
   "outputs": [],
   "source": []
  },
  {
   "cell_type": "markdown",
   "metadata": {},
   "source": [
    "# #DAY 4 ASSIGNMENT\n",
    "#QUESTION 2 (below this QUESTION 1)"
   ]
  },
  {
   "cell_type": "markdown",
   "metadata": {},
   "source": [
    "EXPLAIN USING DIFFERENT KIND OF STRING #islower(), #isupper()"
   ]
  },
  {
   "cell_type": "code",
   "execution_count": 6,
   "metadata": {},
   "outputs": [
    {
     "data": {
      "text/plain": [
       "True"
      ]
     },
     "execution_count": 6,
     "metadata": {},
     "output_type": "execute_result"
    }
   ],
   "source": [
    "str1=('hello')\n",
    "str1.islower()"
   ]
  },
  {
   "cell_type": "code",
   "execution_count": 7,
   "metadata": {},
   "outputs": [
    {
     "data": {
      "text/plain": [
       "True"
      ]
     },
     "execution_count": 7,
     "metadata": {},
     "output_type": "execute_result"
    }
   ],
   "source": [
    "str1=('hello1')\n",
    "str1.islower()"
   ]
  },
  {
   "cell_type": "code",
   "execution_count": 8,
   "metadata": {},
   "outputs": [
    {
     "data": {
      "text/plain": [
       "True"
      ]
     },
     "execution_count": 8,
     "metadata": {},
     "output_type": "execute_result"
    }
   ],
   "source": [
    "str1=('hello@')\n",
    "str1.islower()"
   ]
  },
  {
   "cell_type": "code",
   "execution_count": 9,
   "metadata": {},
   "outputs": [
    {
     "data": {
      "text/plain": [
       "False"
      ]
     },
     "execution_count": 9,
     "metadata": {},
     "output_type": "execute_result"
    }
   ],
   "source": [
    "str1=('hellO')\n",
    "str1.islower()"
   ]
  },
  {
   "cell_type": "code",
   "execution_count": 10,
   "metadata": {},
   "outputs": [
    {
     "data": {
      "text/plain": [
       "False"
      ]
     },
     "execution_count": 10,
     "metadata": {},
     "output_type": "execute_result"
    }
   ],
   "source": [
    "str1=('hello')\n",
    "str1.isupper()"
   ]
  },
  {
   "cell_type": "code",
   "execution_count": 11,
   "metadata": {},
   "outputs": [
    {
     "data": {
      "text/plain": [
       "False"
      ]
     },
     "execution_count": 11,
     "metadata": {},
     "output_type": "execute_result"
    }
   ],
   "source": [
    "str1=('Hello')\n",
    "str1.isupper()"
   ]
  },
  {
   "cell_type": "code",
   "execution_count": 12,
   "metadata": {},
   "outputs": [
    {
     "data": {
      "text/plain": [
       "True"
      ]
     },
     "execution_count": 12,
     "metadata": {},
     "output_type": "execute_result"
    }
   ],
   "source": [
    "str1=('hello')\n",
    "b=str1.upper()\n",
    "b.isupper()"
   ]
  },
  {
   "cell_type": "code",
   "execution_count": 13,
   "metadata": {},
   "outputs": [
    {
     "data": {
      "text/plain": [
       "True"
      ]
     },
     "execution_count": 13,
     "metadata": {},
     "output_type": "execute_result"
    }
   ],
   "source": [
    "a=(\"1234@H\")\n",
    "a.isupper()"
   ]
  },
  {
   "cell_type": "code",
   "execution_count": null,
   "metadata": {},
   "outputs": [],
   "source": []
  },
  {
   "cell_type": "code",
   "execution_count": null,
   "metadata": {},
   "outputs": [],
   "source": []
  },
  {
   "cell_type": "markdown",
   "metadata": {},
   "source": [
    "#QUESTION 1"
   ]
  },
  {
   "cell_type": "raw",
   "metadata": {},
   "source": [
    "TO FIND OCCURENCE OF SUBSTRING IN GIVEN STRING"
   ]
  },
  {
   "cell_type": "code",
   "execution_count": null,
   "metadata": {},
   "outputs": [],
   "source": []
  },
  {
   "cell_type": "code",
   "execution_count": 14,
   "metadata": {},
   "outputs": [
    {
     "name": "stdout",
     "output_type": "stream",
     "text": [
      "[5, 14, 25]\n"
     ]
    }
   ],
   "source": [
    "import re\n",
    "a=\"what we think we become; we are Python programmer\"\n",
    "b=\"we\"\n",
    "matches=re.finditer(b,a)\n",
    "matches_positions=[match.start() for match in matches]\n",
    "print(matches_positions)"
   ]
  },
  {
   "cell_type": "code",
   "execution_count": null,
   "metadata": {},
   "outputs": [],
   "source": []
  },
  {
   "cell_type": "code",
   "execution_count": 15,
   "metadata": {},
   "outputs": [],
   "source": [
    "a=\"what we think we become; we are Python programmer\"\n",
    "range(0,48)\n",
    "for i in range(0,48):\n",
    "    j=i+4\n",
    "    a.find(\"we\",i,j)"
   ]
  },
  {
   "cell_type": "code",
   "execution_count": null,
   "metadata": {},
   "outputs": [],
   "source": []
  },
  {
   "cell_type": "code",
   "execution_count": null,
   "metadata": {},
   "outputs": [],
   "source": []
  },
  {
   "cell_type": "code",
   "execution_count": null,
   "metadata": {},
   "outputs": [],
   "source": []
  },
  {
   "cell_type": "code",
   "execution_count": null,
   "metadata": {},
   "outputs": [],
   "source": []
  },
  {
   "cell_type": "code",
   "execution_count": 16,
   "metadata": {},
   "outputs": [
    {
     "data": {
      "text/plain": [
       "['what', 'we', 'think', 'we', 'become;', 'we', 'are', 'Python', 'programmer']"
      ]
     },
     "execution_count": 16,
     "metadata": {},
     "output_type": "execute_result"
    }
   ],
   "source": [
    "a.split( )"
   ]
  },
  {
   "cell_type": "code",
   "execution_count": 17,
   "metadata": {},
   "outputs": [],
   "source": [
    "i=0\n",
    "for each in a:\n",
    "    a[i+1]\n"
   ]
  },
  {
   "cell_type": "code",
   "execution_count": 18,
   "metadata": {},
   "outputs": [
    {
     "data": {
      "text/plain": [
       "'r'"
      ]
     },
     "execution_count": 18,
     "metadata": {},
     "output_type": "execute_result"
    }
   ],
   "source": [
    "a[1+47]"
   ]
  },
  {
   "cell_type": "code",
   "execution_count": 19,
   "metadata": {},
   "outputs": [
    {
     "data": {
      "text/plain": [
       "49"
      ]
     },
     "execution_count": 19,
     "metadata": {},
     "output_type": "execute_result"
    }
   ],
   "source": [
    "len(a)"
   ]
  },
  {
   "cell_type": "code",
   "execution_count": 20,
   "metadata": {},
   "outputs": [
    {
     "data": {
      "text/plain": [
       "'r'"
      ]
     },
     "execution_count": 20,
     "metadata": {},
     "output_type": "execute_result"
    }
   ],
   "source": [
    "a[48]"
   ]
  },
  {
   "cell_type": "code",
   "execution_count": 21,
   "metadata": {},
   "outputs": [
    {
     "data": {
      "text/plain": [
       "'r'"
      ]
     },
     "execution_count": 21,
     "metadata": {},
     "output_type": "execute_result"
    }
   ],
   "source": [
    "a[-1]"
   ]
  },
  {
   "cell_type": "code",
   "execution_count": 22,
   "metadata": {},
   "outputs": [
    {
     "data": {
      "text/plain": [
       "' '"
      ]
     },
     "execution_count": 22,
     "metadata": {},
     "output_type": "execute_result"
    }
   ],
   "source": [
    "a[24]"
   ]
  },
  {
   "cell_type": "code",
   "execution_count": 23,
   "metadata": {},
   "outputs": [
    {
     "data": {
      "text/plain": [
       "'r'"
      ]
     },
     "execution_count": 23,
     "metadata": {},
     "output_type": "execute_result"
    }
   ],
   "source": [
    "a[-20]"
   ]
  },
  {
   "cell_type": "markdown",
   "metadata": {},
   "source": [
    "#slicing"
   ]
  },
  {
   "cell_type": "code",
   "execution_count": 24,
   "metadata": {},
   "outputs": [
    {
     "data": {
      "text/plain": [
       "' etikw eoe eaePto rga'"
      ]
     },
     "execution_count": 24,
     "metadata": {},
     "output_type": "execute_result"
    }
   ],
   "source": [
    "a[4:45:2]"
   ]
  },
  {
   "cell_type": "code",
   "execution_count": 25,
   "metadata": {},
   "outputs": [
    {
     "data": {
      "text/plain": [
       "'what '"
      ]
     },
     "execution_count": 25,
     "metadata": {},
     "output_type": "execute_result"
    }
   ],
   "source": [
    "a[:5:]"
   ]
  },
  {
   "cell_type": "code",
   "execution_count": 26,
   "metadata": {},
   "outputs": [
    {
     "data": {
      "text/plain": [
       "'remmargorp nohtyP era ew ;emoceb ew kniht ew tahw'"
      ]
     },
     "execution_count": 26,
     "metadata": {},
     "output_type": "execute_result"
    }
   ],
   "source": [
    "a[::-1]"
   ]
  },
  {
   "cell_type": "code",
   "execution_count": 27,
   "metadata": {},
   "outputs": [
    {
     "data": {
      "text/plain": [
       "'argorp nohtyP era ew ;emoceb ew kniht ew tah'"
      ]
     },
     "execution_count": 27,
     "metadata": {},
     "output_type": "execute_result"
    }
   ],
   "source": [
    "a[-5:0:-1]"
   ]
  },
  {
   "cell_type": "code",
   "execution_count": 28,
   "metadata": {},
   "outputs": [
    {
     "data": {
      "text/plain": [
       "'what we think we become; we are Python programmer'"
      ]
     },
     "execution_count": 28,
     "metadata": {},
     "output_type": "execute_result"
    }
   ],
   "source": [
    "a\n"
   ]
  },
  {
   "cell_type": "markdown",
   "metadata": {},
   "source": [
    "#python string method\n"
   ]
  },
  {
   "cell_type": "code",
   "execution_count": 29,
   "metadata": {},
   "outputs": [
    {
     "data": {
      "text/plain": [
       "'what we think we become; we are Python programmer'"
      ]
     },
     "execution_count": 29,
     "metadata": {},
     "output_type": "execute_result"
    }
   ],
   "source": [
    "a"
   ]
  },
  {
   "cell_type": "code",
   "execution_count": 30,
   "metadata": {},
   "outputs": [
    {
     "data": {
      "text/plain": [
       "'what we think we become; we are python programmer'"
      ]
     },
     "execution_count": 30,
     "metadata": {},
     "output_type": "execute_result"
    }
   ],
   "source": [
    "a.lower()"
   ]
  },
  {
   "cell_type": "code",
   "execution_count": 31,
   "metadata": {},
   "outputs": [
    {
     "data": {
      "text/plain": [
       "'WHAT WE THINK WE BECOME; WE ARE PYTHON PROGRAMMER'"
      ]
     },
     "execution_count": 31,
     "metadata": {},
     "output_type": "execute_result"
    }
   ],
   "source": [
    "a.upper()"
   ]
  },
  {
   "cell_type": "code",
   "execution_count": 32,
   "metadata": {},
   "outputs": [
    {
     "ename": "AttributeError",
     "evalue": "'str' object has no attribute 'capitalised'",
     "output_type": "error",
     "traceback": [
      "\u001b[1;31m---------------------------------------------------------------------------\u001b[0m",
      "\u001b[1;31mAttributeError\u001b[0m                            Traceback (most recent call last)",
      "\u001b[1;32m<ipython-input-32-4299cc0c8488>\u001b[0m in \u001b[0;36m<module>\u001b[1;34m\u001b[0m\n\u001b[1;32m----> 1\u001b[1;33m \u001b[0ma\u001b[0m\u001b[1;33m.\u001b[0m\u001b[0mcapitalised\u001b[0m\u001b[1;33m(\u001b[0m\u001b[1;33m)\u001b[0m\u001b[1;33m\u001b[0m\u001b[1;33m\u001b[0m\u001b[0m\n\u001b[0m",
      "\u001b[1;31mAttributeError\u001b[0m: 'str' object has no attribute 'capitalised'"
     ]
    }
   ],
   "source": [
    "a.capitalised()"
   ]
  },
  {
   "cell_type": "code",
   "execution_count": null,
   "metadata": {},
   "outputs": [],
   "source": [
    "a.count(\"we\")"
   ]
  },
  {
   "cell_type": "code",
   "execution_count": null,
   "metadata": {},
   "outputs": [],
   "source": [
    "a.count(\"we\",5,10)"
   ]
  },
  {
   "cell_type": "code",
   "execution_count": null,
   "metadata": {},
   "outputs": [],
   "source": [
    "\n",
    "i=5\n",
    "j=i+1\n",
    "a.find(\"a\",5,10)"
   ]
  },
  {
   "cell_type": "code",
   "execution_count": null,
   "metadata": {},
   "outputs": [],
   "source": [
    "a.find(\"a\",20,35)"
   ]
  },
  {
   "cell_type": "code",
   "execution_count": 33,
   "metadata": {},
   "outputs": [
    {
     "name": "stdout",
     "output_type": "stream",
     "text": [
      "0 4\n",
      "1 5\n",
      "2 6\n",
      "3 7\n",
      "4 8\n",
      "5 9\n",
      "6 10\n",
      "7 11\n",
      "8 12\n",
      "9 13\n",
      "10 14\n",
      "11 15\n",
      "12 16\n",
      "13 17\n",
      "14 18\n",
      "15 19\n",
      "16 20\n",
      "17 21\n",
      "18 22\n",
      "19 23\n",
      "20 24\n",
      "21 25\n",
      "22 26\n",
      "23 27\n",
      "24 28\n",
      "25 29\n",
      "26 30\n",
      "27 31\n",
      "28 32\n",
      "29 33\n",
      "30 34\n",
      "31 35\n",
      "32 36\n",
      "33 37\n",
      "34 38\n",
      "35 39\n",
      "36 40\n",
      "37 41\n",
      "38 42\n",
      "39 43\n",
      "40 44\n",
      "41 45\n",
      "42 46\n",
      "43 47\n",
      "44 48\n",
      "45 49\n",
      "46 50\n",
      "47 51\n"
     ]
    }
   ],
   "source": [
    "b=\"hello\"\n",
    "range(0,48)\n",
    "for i in range(0,48):\n",
    "    j=i+4\n",
    "    print(i,j)\n",
    "    b.find(\"h\",i,j)"
   ]
  },
  {
   "cell_type": "code",
   "execution_count": 34,
   "metadata": {},
   "outputs": [
    {
     "name": "stdout",
     "output_type": "stream",
     "text": [
      "0\n",
      "1\n",
      "2\n",
      "3\n",
      "4\n",
      "5\n",
      "6\n",
      "7\n",
      "8\n",
      "9\n",
      "10\n",
      "11\n",
      "12\n",
      "13\n",
      "14\n",
      "15\n",
      "16\n",
      "17\n",
      "18\n",
      "19\n",
      "20\n",
      "21\n",
      "22\n",
      "23\n",
      "24\n",
      "25\n",
      "26\n",
      "27\n",
      "28\n",
      "29\n",
      "30\n",
      "31\n",
      "32\n",
      "33\n",
      "34\n",
      "35\n",
      "36\n",
      "37\n",
      "38\n",
      "39\n",
      "40\n",
      "41\n",
      "42\n",
      "43\n",
      "44\n",
      "45\n",
      "46\n",
      "47\n"
     ]
    }
   ],
   "source": [
    "range(0,48)\n",
    "for i in range(0,48):\n",
    "    print(i)"
   ]
  },
  {
   "cell_type": "code",
   "execution_count": 35,
   "metadata": {},
   "outputs": [
    {
     "data": {
      "text/plain": [
       "25"
      ]
     },
     "execution_count": 35,
     "metadata": {},
     "output_type": "execute_result"
    }
   ],
   "source": [
    "a.rfind(\"we\",-40)"
   ]
  },
  {
   "cell_type": "code",
   "execution_count": 36,
   "metadata": {},
   "outputs": [
    {
     "data": {
      "text/plain": [
       "25"
      ]
     },
     "execution_count": 36,
     "metadata": {},
     "output_type": "execute_result"
    }
   ],
   "source": [
    "a.rfind(\"we\")"
   ]
  },
  {
   "cell_type": "code",
   "execution_count": 37,
   "metadata": {},
   "outputs": [
    {
     "data": {
      "text/plain": [
       "'what we think we become; we are Python programmer'"
      ]
     },
     "execution_count": 37,
     "metadata": {},
     "output_type": "execute_result"
    }
   ],
   "source": [
    "a\n"
   ]
  },
  {
   "cell_type": "code",
   "execution_count": 38,
   "metadata": {},
   "outputs": [
    {
     "data": {
      "text/plain": [
       "2"
      ]
     },
     "execution_count": 38,
     "metadata": {},
     "output_type": "execute_result"
    }
   ],
   "source": [
    "a.find(\"a\")"
   ]
  },
  {
   "cell_type": "markdown",
   "metadata": {},
   "source": [
    "# #DAY3 ASSIGNMENTS"
   ]
  },
  {
   "cell_type": "markdown",
   "metadata": {},
   "source": [
    "#ASSIGNMENT 1"
   ]
  },
  {
   "cell_type": "code",
   "execution_count": 39,
   "metadata": {},
   "outputs": [
    {
     "name": "stdout",
     "output_type": "stream",
     "text": [
      "enter the number upto which addition has to be carry:567778\n",
      "Addition of all numbers upto 567778 is 161186212531.0\n"
     ]
    }
   ],
   "source": [
    "n=int(input(\"enter the number upto which addition has to be carry:\"))\n",
    "while n!=0:\n",
    "    sum1=((n*n+n)/2)\n",
    "    break\n",
    "print(\"Addition of all numbers upto\",n,\"is\",sum1)"
   ]
  },
  {
   "cell_type": "markdown",
   "metadata": {},
   "source": [
    "#ASSIGNMENT 2"
   ]
  },
  {
   "cell_type": "code",
   "execution_count": 4,
   "metadata": {},
   "outputs": [
    {
     "name": "stdout",
     "output_type": "stream",
     "text": [
      "next of 2, Number to be checked:4656\n",
      "4656 is not prime\n"
     ]
    }
   ],
   "source": [
    "num=int(input(\"next of 2, Number to be checked:\"))\n",
    "for i in range(2,num):\n",
    "    if num%i==0:\n",
    "    \n",
    "        print (num,\"is not prime\")\n",
    "    else:\n",
    "        print (num, 'is a prime number')\n",
    "    break\n"
   ]
  },
  {
   "cell_type": "markdown",
   "metadata": {},
   "source": [
    "# #DAY2 ASSIGNMENTS\n",
    "#What we learn today"
   ]
  },
  {
   "cell_type": "code",
   "execution_count": 40,
   "metadata": {},
   "outputs": [
    {
     "name": "stdout",
     "output_type": "stream",
     "text": [
      "ROHIT\n",
      "ROHIT(:\n",
      "ROHIT \n",
      "GARUD\n",
      "ROHIT\tGARUD\n",
      "ROHIT GARUD\n",
      "ROHIT'S PEN\n",
      "ROHIT \u0007GARUD\n",
      "My name is ROHIT and I got marks 91.59. Age is 20  \n",
      "My name is ROHIT and I got marks 91.59 Age is 20\n",
      "My name is ROHIT and I got marks      91.59 Age is 20\n",
      "a:40\n",
      "a:20\n",
      "a:1.0\n",
      "a:20.0\n",
      "a:1.0\n",
      "a:1.0\n"
     ]
    }
   ],
   "source": [
    "print(\"ROHIT\")\n",
    "\n",
    "\n",
    "print(\"\"\"ROHIT(:\"\"\")\n",
    "\n",
    "print(\"ROHIT \\nGARUD\")\n",
    "\n",
    "print(\"ROHIT\\tGARUD\")\n",
    "\n",
    "print(\"ROHIT GARUD\")\n",
    "\n",
    "print('ROHIT\\'S PEN')\n",
    "\n",
    "print(\"ROHIT \\aGARUD\")\n",
    "\n",
    "name=\"ROHIT\"\n",
    "marks=91.59\n",
    "age=20\n",
    "\n",
    "print(f\"My name is {name} and I got marks {marks}. Age is {age}  \")\n",
    "\n",
    "print(\"My name is\",name, \"and I got marks\", marks, \"Age is\",age, )\n",
    "\n",
    "print(\"My name is %s and I got marks %10.2f Age is %d\"%(name,marks,age) )\n",
    "\n",
    "##OPERTOR\n",
    "\n",
    "#1)AERTHMETIC OPERATOR\n",
    "\n",
    "a=10\n",
    "b=20\n",
    "B=30\n",
    "c10=40\n",
    "\n",
    "a+b #addition\n",
    "\n",
    "\n",
    "a*b #multipication\n",
    "\n",
    "c10/a \n",
    "\n",
    "c10//a\n",
    "\n",
    "B-b\n",
    "\n",
    "a**2\n",
    "\n",
    "a%b\n",
    "\n",
    "id(a)\n",
    "\n",
    "id(b)\n",
    "\n",
    "id(c10)\n",
    "\n",
    "#2)COMPARISON OPERATOR\n",
    "\n",
    "x=y=10\n",
    "\n",
    "id(x)==id(y)\n",
    "\n",
    "a>=b\n",
    "\n",
    "a<=b\n",
    "\n",
    "a!=b\n",
    "\n",
    "#3)BITWISE OPERATOR\n",
    "\n",
    "a|b\n",
    "\n",
    "a&b\n",
    "\n",
    "bin(a)\n",
    "\n",
    "bin(b)\n",
    "\n",
    "#4)LOGICAL OPERATOR\n",
    "\n",
    "a>10 or a<10\n",
    "\n",
    "a>10 and a<10\n",
    "\n",
    "not a<10\n",
    "\n",
    "#5)IDENTITY OPERATOR\n",
    "\n",
    "a is b\n",
    "\n",
    "a is not b\n",
    "\n",
    "#6)MEMBERSHIP OPERATOR\n",
    "\n",
    "strl=\"ROHIT\"\n",
    "\"h\" is not strl\n",
    "\n",
    "#7)ASSIGNMENT OPERATOR\n",
    "\n",
    "a=b\n",
    "\n",
    "a+=b\n",
    "\n",
    "print(\"a:\"+str(a))\n",
    "\n",
    "a-=b\n",
    "\n",
    "print(\"a:\"+str(a))\n",
    "\n",
    "a/=b\n",
    "print(\"a:\"+str(a))\n",
    "\n",
    "a*=b\n",
    "print(\"a:\"+str(a))\n",
    "\n",
    "a//=b\n",
    "print(\"a:\"+str(a))\n",
    "\n",
    "a**=b\n",
    "print(\"a:\"+str(a))\n",
    "\n"
   ]
  },
  {
   "cell_type": "code",
   "execution_count": null,
   "metadata": {},
   "outputs": [],
   "source": []
  },
  {
   "cell_type": "markdown",
   "metadata": {},
   "source": [
    "# DAY 1 ASSIGNMENT \n",
    "POST IN LETSUPGRADE"
   ]
  },
  {
   "cell_type": "code",
   "execution_count": 42,
   "metadata": {},
   "outputs": [
    {
     "ename": "SyntaxError",
     "evalue": "invalid syntax (<ipython-input-42-41e885d8096f>, line 1)",
     "output_type": "error",
     "traceback": [
      "\u001b[1;36m  File \u001b[1;32m\"<ipython-input-42-41e885d8096f>\"\u001b[1;36m, line \u001b[1;32m1\u001b[0m\n\u001b[1;33m    https://community.letsupgrade.in/user/rohitgarud79/posts\u001b[0m\n\u001b[1;37m           ^\u001b[0m\n\u001b[1;31mSyntaxError\u001b[0m\u001b[1;31m:\u001b[0m invalid syntax\n"
     ]
    }
   ],
   "source": [
    "https://community.letsupgrade.in/user/rohitgarud79/posts"
   ]
  },
  {
   "cell_type": "code",
   "execution_count": null,
   "metadata": {},
   "outputs": [],
   "source": []
  }
 ],
 "metadata": {
  "kernelspec": {
   "display_name": "Python 3",
   "language": "python",
   "name": "python3"
  },
  "language_info": {
   "codemirror_mode": {
    "name": "ipython",
    "version": 3
   },
   "file_extension": ".py",
   "mimetype": "text/x-python",
   "name": "python",
   "nbconvert_exporter": "python",
   "pygments_lexer": "ipython3",
   "version": "3.7.6"
  }
 },
 "nbformat": 4,
 "nbformat_minor": 4
}
